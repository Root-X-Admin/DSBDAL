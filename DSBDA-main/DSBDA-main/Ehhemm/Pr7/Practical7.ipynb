{
 "cells": [
  {
   "cell_type": "code",
   "execution_count": 2,
   "metadata": {},
   "outputs": [
    {
     "name": "stderr",
     "output_type": "stream",
     "text": [
      "[nltk_data] Downloading package punkt to\n",
      "[nltk_data]     C:\\Users\\Prathamesh\\AppData\\Roaming\\nltk_data...\n",
      "[nltk_data]   Package punkt is already up-to-date!\n",
      "[nltk_data] Downloading package averaged_perceptron_tagger to\n",
      "[nltk_data]     C:\\Users\\Prathamesh\\AppData\\Roaming\\nltk_data...\n",
      "[nltk_data]   Unzipping taggers\\averaged_perceptron_tagger.zip.\n",
      "[nltk_data] Downloading package wordnet to\n",
      "[nltk_data]     C:\\Users\\Prathamesh\\AppData\\Roaming\\nltk_data...\n",
      "[nltk_data] Downloading package stopwords to\n",
      "[nltk_data]     C:\\Users\\Prathamesh\\AppData\\Roaming\\nltk_data...\n",
      "[nltk_data]   Package stopwords is already up-to-date!\n"
     ]
    },
    {
     "data": {
      "text/plain": [
       "True"
      ]
     },
     "execution_count": 2,
     "metadata": {},
     "output_type": "execute_result"
    }
   ],
   "source": [
    "import nltk\n",
    "nltk.download('punkt')\n",
    "nltk.download('averaged_perceptron_tagger')\n",
    "nltk.download('wordnet')\n",
    "nltk.download('stopwords')"
   ]
  },
  {
   "cell_type": "code",
   "execution_count": 3,
   "metadata": {},
   "outputs": [
    {
     "name": "stdout",
     "output_type": "stream",
     "text": [
      "Tokenization: ['Text', 'analytics', 'is', 'the', 'process', 'of', 'analyzing', 'unstructured', 'text', 'data', 'to', 'extract', 'relevant', 'information', '.', 'It', 'involves', 'several', 'preprocessing', 'steps', 'such', 'as', 'tokenization', ',', 'POS', 'tagging', ',', 'stop', 'words', 'removal', ',', 'stemming', ',', 'and', 'lemmatization', '.']\n",
      "\n",
      "POS Tagging: [('Text', 'NN'), ('analytics', 'NNS'), ('is', 'VBZ'), ('the', 'DT'), ('process', 'NN'), ('of', 'IN'), ('analyzing', 'VBG'), ('unstructured', 'JJ'), ('text', 'NN'), ('data', 'NNS'), ('to', 'TO'), ('extract', 'VB'), ('relevant', 'JJ'), ('information', 'NN'), ('.', '.'), ('It', 'PRP'), ('involves', 'VBZ'), ('several', 'JJ'), ('preprocessing', 'VBG'), ('steps', 'NNS'), ('such', 'JJ'), ('as', 'IN'), ('tokenization', 'NN'), (',', ','), ('POS', 'NNP'), ('tagging', 'NN'), (',', ','), ('stop', 'VB'), ('words', 'NNS'), ('removal', 'JJ'), (',', ','), ('stemming', 'VBG'), (',', ','), ('and', 'CC'), ('lemmatization', 'NN'), ('.', '.')]\n",
      "\n",
      "Stopwords Removal: ['Text', 'analytics', 'process', 'analyzing', 'unstructured', 'text', 'data', 'extract', 'relevant', 'information', '.', 'involves', 'several', 'preprocessing', 'steps', 'tokenization', ',', 'POS', 'tagging', ',', 'stop', 'words', 'removal', ',', 'stemming', ',', 'lemmatization', '.']\n",
      "\n",
      "Stemming: ['text', 'analyt', 'process', 'analyz', 'unstructur', 'text', 'data', 'extract', 'relev', 'inform', '.', 'involv', 'sever', 'preprocess', 'step', 'token', ',', 'po', 'tag', ',', 'stop', 'word', 'remov', ',', 'stem', ',', 'lemmat', '.']\n",
      "\n",
      "Lemmatization: ['Text', 'analytics', 'process', 'analyze', 'unstructured', 'text', 'data', 'extract', 'relevant', 'information', '.', 'involve', 'several', 'preprocessing', 'step', 'tokenization', ',', 'POS', 'tag', ',', 'stop', 'word', 'removal', ',', 'stem', ',', 'lemmatization', '.']\n",
      "\n",
      "Term Frequency: [(',', 4), ('.', 2), ('Text', 1), ('analytics', 1), ('process', 1), ('analyze', 1), ('unstructured', 1), ('text', 1), ('data', 1), ('extract', 1), ('relevant', 1), ('information', 1), ('involve', 1), ('several', 1), ('preprocessing', 1), ('step', 1), ('tokenization', 1), ('POS', 1), ('tag', 1), ('stop', 1), ('word', 1), ('removal', 1), ('stem', 1), ('lemmatization', 1)]\n",
      "\n",
      "Inverse Document Frequency:\n",
      "unstructured : 1.0986122886681098\n",
      "text : 0.4054651081081644\n",
      "information : 1.0986122886681098\n",
      ". : 0.0\n",
      "process : 0.4054651081081644\n",
      "analyze : 0\n",
      "analytics : 0.0\n",
      "data : 0.4054651081081644\n",
      "relevant : 1.0986122886681098\n",
      "extract : 0.4054651081081644\n",
      "step : 1.0986122886681098\n",
      ", : 1.0986122886681098\n",
      "several : 1.0986122886681098\n",
      "stop : 1.0986122886681098\n",
      "removal : 1.0986122886681098\n",
      "tag : 1.0986122886681098\n",
      "lemmatization : 1.0986122886681098\n",
      "preprocessing : 1.0986122886681098\n",
      "word : 1.0986122886681098\n",
      "pos : 0\n",
      "involve : 1.0986122886681098\n",
      "tokenization : 1.0986122886681098\n",
      "stem : 1.0986122886681098\n",
      "applications : 1.0986122886681098\n",
      "insights : 1.0986122886681098\n",
      "volumes : 1.0986122886681098\n",
      "help : 1.0986122886681098\n",
      "large : 1.0986122886681098\n",
      "various : 1.0986122886681098\n"
     ]
    }
   ],
   "source": [
    "import nltk\n",
    "from nltk.tokenize import word_tokenize\n",
    "from nltk.corpus import stopwords\n",
    "from nltk.stem import PorterStemmer, WordNetLemmatizer\n",
    "from nltk.probability import FreqDist\n",
    "from nltk.corpus import wordnet\n",
    "import math\n",
    "\n",
    "# Sample document\n",
    "sample_document = \"Text analytics is the process of analyzing unstructured text data to extract \\\n",
    "                relevant information. It involves several preprocessing steps such as tokenization, \\\n",
    "                POS tagging, stop words removal, stemming, and lemmatization.\"\n",
    "\n",
    "# Tokenization\n",
    "tokens = word_tokenize(sample_document)\n",
    "\n",
    "# POS Tagging\n",
    "pos_tags = nltk.pos_tag(tokens)\n",
    "\n",
    "# Stopwords Removal\n",
    "stop_words = set(stopwords.words('english'))\n",
    "filtered_tokens = [word for word in tokens if word.lower() not in stop_words]\n",
    "\n",
    "# Stemming\n",
    "ps = PorterStemmer()\n",
    "stemmed_tokens = [ps.stem(word) for word in filtered_tokens]\n",
    "\n",
    "# Lemmatization\n",
    "wnl = WordNetLemmatizer()\n",
    "lemmatized_tokens = [wnl.lemmatize(word, pos='v') for word in filtered_tokens]\n",
    "\n",
    "# Term Frequency Calculation\n",
    "tf = FreqDist(lemmatized_tokens)\n",
    "\n",
    "# Inverse Document Frequency Calculation\n",
    "def idf(term, documents):\n",
    "    doc_with_term = sum(1 for doc in documents if term in doc)\n",
    "    if doc_with_term == 0:\n",
    "        return 0\n",
    "    else:\n",
    "        return math.log(len(documents) / doc_with_term)\n",
    "\n",
    "# Example collection of documents\n",
    "documents = [\n",
    "    \"Text analytics is the process of analyzing unstructured text data to extract relevant information.\",\n",
    "    \"Text analytics involves several preprocessing steps such as tokenization, POS tagging, stop words removal, stemming, and lemmatization.\",\n",
    "    \"Text analytics helps in extracting insights from large volumes of text data for various applications.\",\n",
    "]\n",
    "\n",
    "# Calculate IDF for each term in the collection of documents\n",
    "idf_scores = {}\n",
    "for doc in documents:\n",
    "    doc_tokens = word_tokenize(doc)\n",
    "    doc_tokens = [wnl.lemmatize(word.lower(), pos='v') for word in doc_tokens if word.lower() not in stop_words]\n",
    "    for term in set(doc_tokens):\n",
    "        idf_scores[term] = idf(term, documents)\n",
    "\n",
    "# Print results\n",
    "print(\"Tokenization:\", tokens)\n",
    "print(\"\\nPOS Tagging:\", pos_tags)\n",
    "print(\"\\nStopwords Removal:\", filtered_tokens)\n",
    "print(\"\\nStemming:\", stemmed_tokens)\n",
    "print(\"\\nLemmatization:\", lemmatized_tokens)\n",
    "print(\"\\nTerm Frequency:\", tf.most_common())\n",
    "print(\"\\nInverse Document Frequency:\")\n",
    "for term, score in idf_scores.items():\n",
    "    print(term, \":\", score)\n"
   ]
  }
 ],
 "metadata": {
  "kernelspec": {
   "display_name": "Python 3",
   "language": "python",
   "name": "python3"
  },
  "language_info": {
   "codemirror_mode": {
    "name": "ipython",
    "version": 3
   },
   "file_extension": ".py",
   "mimetype": "text/x-python",
   "name": "python",
   "nbconvert_exporter": "python",
   "pygments_lexer": "ipython3",
   "version": "3.11.9"
  }
 },
 "nbformat": 4,
 "nbformat_minor": 2
}
