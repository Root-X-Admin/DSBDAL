{
 "cells": [
  {
   "cell_type": "code",
   "execution_count": 1,
   "id": "5255574d",
   "metadata": {},
   "outputs": [],
   "source": [
    "# Data Wrangling II\n",
    "# Create an “Academic performance” dataset of students and perform the following operations using \n",
    "# Python.\n",
    "#   1. Scan all variables for missing values and inconsistencies. If there are missing values and/or \n",
    "#      inconsistencies, use any of the suitable techniques to deal with them.\n",
    "#   2. Scan all numeric variables for outliers. If there are outliers, use any of the suitable techniques \n",
    "#      to deal with them.\n",
    "#   3. Apply data transformations on at least one of the variables. The purpose of this \n",
    "#      transformation should be one of the following reasons: to change the scale for better \n",
    "#      understanding of the variable, to convert a non-linear relation into a linear one, or to decrease \n",
    "#      the skewness and convert the distribution into a normal distribution."
   ]
  },
  {
   "cell_type": "code",
   "execution_count": 2,
   "id": "443c6eaf",
   "metadata": {},
   "outputs": [],
   "source": [
    "import numpy as np\n",
    "import pandas as pd\n",
    "import matplotlib.pyplot as plt\n",
    "import seaborn as sns\n",
    "import warnings\n",
    "warnings.filterwarnings(\"ignore\")\n",
    "from sklearn.preprocessing import StandardScaler"
   ]
  },
  {
   "cell_type": "code",
   "execution_count": 3,
   "id": "41b452c7",
   "metadata": {},
   "outputs": [
    {
     "data": {
      "text/html": [
       "<div>\n",
       "<style scoped>\n",
       "    .dataframe tbody tr th:only-of-type {\n",
       "        vertical-align: middle;\n",
       "    }\n",
       "\n",
       "    .dataframe tbody tr th {\n",
       "        vertical-align: top;\n",
       "    }\n",
       "\n",
       "    .dataframe thead th {\n",
       "        text-align: right;\n",
       "    }\n",
       "</style>\n",
       "<table border=\"1\" class=\"dataframe\">\n",
       "  <thead>\n",
       "    <tr style=\"text-align: right;\">\n",
       "      <th></th>\n",
       "      <th>gender</th>\n",
       "      <th>NationalITy</th>\n",
       "      <th>PlaceofBirth</th>\n",
       "      <th>StageID</th>\n",
       "      <th>GradeID</th>\n",
       "      <th>SectionID</th>\n",
       "      <th>Topic</th>\n",
       "      <th>Semester</th>\n",
       "      <th>Relation</th>\n",
       "      <th>raisedhands</th>\n",
       "      <th>VisITedResources</th>\n",
       "      <th>AnnouncementsView</th>\n",
       "      <th>Discussion</th>\n",
       "      <th>ParentAnsweringSurvey</th>\n",
       "      <th>ParentschoolSatisfaction</th>\n",
       "      <th>StudentAbsenceDays</th>\n",
       "      <th>Class</th>\n",
       "    </tr>\n",
       "  </thead>\n",
       "  <tbody>\n",
       "    <tr>\n",
       "      <th>0</th>\n",
       "      <td>M</td>\n",
       "      <td>KW</td>\n",
       "      <td>KuwaIT</td>\n",
       "      <td>lowerlevel</td>\n",
       "      <td>G-04</td>\n",
       "      <td>A</td>\n",
       "      <td>IT</td>\n",
       "      <td>F</td>\n",
       "      <td>Father</td>\n",
       "      <td>15.0</td>\n",
       "      <td>16</td>\n",
       "      <td>2</td>\n",
       "      <td>20</td>\n",
       "      <td>Yes</td>\n",
       "      <td>Good</td>\n",
       "      <td>Under-7</td>\n",
       "      <td>M</td>\n",
       "    </tr>\n",
       "    <tr>\n",
       "      <th>1</th>\n",
       "      <td>M</td>\n",
       "      <td>KW</td>\n",
       "      <td>KuwaIT</td>\n",
       "      <td>lowerlevel</td>\n",
       "      <td>G-04</td>\n",
       "      <td>A</td>\n",
       "      <td>IT</td>\n",
       "      <td>F</td>\n",
       "      <td>Father</td>\n",
       "      <td>20.0</td>\n",
       "      <td>20</td>\n",
       "      <td>3</td>\n",
       "      <td>25</td>\n",
       "      <td>Yes</td>\n",
       "      <td>Good</td>\n",
       "      <td>Under-7</td>\n",
       "      <td>M</td>\n",
       "    </tr>\n",
       "    <tr>\n",
       "      <th>2</th>\n",
       "      <td>M</td>\n",
       "      <td>KW</td>\n",
       "      <td>KuwaIT</td>\n",
       "      <td>lowerlevel</td>\n",
       "      <td>G-04</td>\n",
       "      <td>A</td>\n",
       "      <td>IT</td>\n",
       "      <td>F</td>\n",
       "      <td>Father</td>\n",
       "      <td>10.0</td>\n",
       "      <td>7</td>\n",
       "      <td>0</td>\n",
       "      <td>30</td>\n",
       "      <td>No</td>\n",
       "      <td>Bad</td>\n",
       "      <td>Above-7</td>\n",
       "      <td>L</td>\n",
       "    </tr>\n",
       "    <tr>\n",
       "      <th>3</th>\n",
       "      <td>M</td>\n",
       "      <td>KW</td>\n",
       "      <td>KuwaIT</td>\n",
       "      <td>lowerlevel</td>\n",
       "      <td>G-04</td>\n",
       "      <td>A</td>\n",
       "      <td>IT</td>\n",
       "      <td>F</td>\n",
       "      <td>Father</td>\n",
       "      <td>30.0</td>\n",
       "      <td>25</td>\n",
       "      <td>5</td>\n",
       "      <td>35</td>\n",
       "      <td>No</td>\n",
       "      <td>Bad</td>\n",
       "      <td>Above-7</td>\n",
       "      <td>L</td>\n",
       "    </tr>\n",
       "    <tr>\n",
       "      <th>4</th>\n",
       "      <td>M</td>\n",
       "      <td>KW</td>\n",
       "      <td>KuwaIT</td>\n",
       "      <td>lowerlevel</td>\n",
       "      <td>G-04</td>\n",
       "      <td>A</td>\n",
       "      <td>IT</td>\n",
       "      <td>F</td>\n",
       "      <td>Father</td>\n",
       "      <td>40.0</td>\n",
       "      <td>50</td>\n",
       "      <td>12</td>\n",
       "      <td>50</td>\n",
       "      <td>No</td>\n",
       "      <td>Bad</td>\n",
       "      <td>Above-7</td>\n",
       "      <td>M</td>\n",
       "    </tr>\n",
       "  </tbody>\n",
       "</table>\n",
       "</div>"
      ],
      "text/plain": [
       "  gender NationalITy PlaceofBirth     StageID GradeID SectionID Topic  \\\n",
       "0      M          KW       KuwaIT  lowerlevel    G-04         A    IT   \n",
       "1      M          KW       KuwaIT  lowerlevel    G-04         A    IT   \n",
       "2      M          KW       KuwaIT  lowerlevel    G-04         A    IT   \n",
       "3      M          KW       KuwaIT  lowerlevel    G-04         A    IT   \n",
       "4      M          KW       KuwaIT  lowerlevel    G-04         A    IT   \n",
       "\n",
       "  Semester Relation  raisedhands  VisITedResources  AnnouncementsView  \\\n",
       "0        F   Father         15.0                16                  2   \n",
       "1        F   Father         20.0                20                  3   \n",
       "2        F   Father         10.0                 7                  0   \n",
       "3        F   Father         30.0                25                  5   \n",
       "4        F   Father         40.0                50                 12   \n",
       "\n",
       "   Discussion ParentAnsweringSurvey ParentschoolSatisfaction  \\\n",
       "0          20                   Yes                     Good   \n",
       "1          25                   Yes                     Good   \n",
       "2          30                    No                      Bad   \n",
       "3          35                    No                      Bad   \n",
       "4          50                    No                      Bad   \n",
       "\n",
       "  StudentAbsenceDays Class  \n",
       "0            Under-7     M  \n",
       "1            Under-7     M  \n",
       "2            Above-7     L  \n",
       "3            Above-7     L  \n",
       "4            Above-7     M  "
      ]
     },
     "execution_count": 3,
     "metadata": {},
     "output_type": "execute_result"
    }
   ],
   "source": [
    "data = pd.read_csv('../academic performance.csv')\n",
    "data.head()"
   ]
  },
  {
   "cell_type": "code",
   "execution_count": 4,
   "id": "ccc90d44",
   "metadata": {},
   "outputs": [
    {
     "name": "stdout",
     "output_type": "stream",
     "text": [
      "<class 'pandas.core.frame.DataFrame'>\n",
      "RangeIndex: 480 entries, 0 to 479\n",
      "Data columns (total 17 columns):\n",
      " #   Column                    Non-Null Count  Dtype  \n",
      "---  ------                    --------------  -----  \n",
      " 0   gender                    480 non-null    object \n",
      " 1   NationalITy               480 non-null    object \n",
      " 2   PlaceofBirth              480 non-null    object \n",
      " 3   StageID                   480 non-null    object \n",
      " 4   GradeID                   480 non-null    object \n",
      " 5   SectionID                 480 non-null    object \n",
      " 6   Topic                     480 non-null    object \n",
      " 7   Semester                  480 non-null    object \n",
      " 8   Relation                  480 non-null    object \n",
      " 9   raisedhands               455 non-null    float64\n",
      " 10  VisITedResources          480 non-null    int64  \n",
      " 11  AnnouncementsView         480 non-null    int64  \n",
      " 12  Discussion                480 non-null    int64  \n",
      " 13  ParentAnsweringSurvey     480 non-null    object \n",
      " 14  ParentschoolSatisfaction  480 non-null    object \n",
      " 15  StudentAbsenceDays        480 non-null    object \n",
      " 16  Class                     480 non-null    object \n",
      "dtypes: float64(1), int64(3), object(13)\n",
      "memory usage: 63.9+ KB\n"
     ]
    }
   ],
   "source": [
    "data.info()"
   ]
  },
  {
   "cell_type": "code",
   "execution_count": 5,
   "id": "67e11cc4",
   "metadata": {
    "scrolled": true
   },
   "outputs": [
    {
     "data": {
      "text/plain": [
       "gender                       0\n",
       "NationalITy                  0\n",
       "PlaceofBirth                 0\n",
       "StageID                      0\n",
       "GradeID                      0\n",
       "SectionID                    0\n",
       "Topic                        0\n",
       "Semester                     0\n",
       "Relation                     0\n",
       "raisedhands                 25\n",
       "VisITedResources             0\n",
       "AnnouncementsView            0\n",
       "Discussion                   0\n",
       "ParentAnsweringSurvey        0\n",
       "ParentschoolSatisfaction     0\n",
       "StudentAbsenceDays           0\n",
       "Class                        0\n",
       "dtype: int64"
      ]
     },
     "execution_count": 5,
     "metadata": {},
     "output_type": "execute_result"
    }
   ],
   "source": [
    "#   1. Scan all variables for missing values and inconsistencies. If there are missing values and/or \n",
    "#      inconsistencies, use any of the suitable techniques to deal with them.\n",
    "data.isnull().sum() #check for missing values"
   ]
  },
  {
   "cell_type": "code",
   "execution_count": 6,
   "id": "9535f6d1",
   "metadata": {},
   "outputs": [],
   "source": [
    "# we can remove null values by dropping rows or fill null values as per features\n",
    "# data1 = data.interpolate()"
   ]
  },
  {
   "cell_type": "code",
   "execution_count": 7,
   "id": "715c604d",
   "metadata": {},
   "outputs": [],
   "source": [
    "# data1.isnull().sum()"
   ]
  },
  {
   "cell_type": "code",
   "execution_count": 8,
   "id": "21b4b615",
   "metadata": {},
   "outputs": [
    {
     "data": {
      "text/plain": [
       "gender                      0\n",
       "NationalITy                 0\n",
       "PlaceofBirth                0\n",
       "StageID                     0\n",
       "GradeID                     0\n",
       "SectionID                   0\n",
       "Topic                       0\n",
       "Semester                    0\n",
       "Relation                    0\n",
       "raisedhands                 0\n",
       "VisITedResources            0\n",
       "AnnouncementsView           0\n",
       "Discussion                  0\n",
       "ParentAnsweringSurvey       0\n",
       "ParentschoolSatisfaction    0\n",
       "StudentAbsenceDays          0\n",
       "Class                       0\n",
       "dtype: int64"
      ]
     },
     "execution_count": 8,
     "metadata": {},
     "output_type": "execute_result"
    }
   ],
   "source": [
    "mean_val = data['raisedhands'].mean()\n",
    "data['raisehands']=data['raisehands'].fillna(mean_val)\n",
    "data2.isnull().sum()"
   ]
  },
  {
   "cell_type": "code",
   "execution_count": 9,
   "id": "5c8bf16c",
   "metadata": {},
   "outputs": [],
   "source": [
    "# Or we can drop null value rows\n",
    "# data.dropna(axis=0, inplace=True)"
   ]
  },
  {
   "cell_type": "code",
   "execution_count": 10,
   "id": "2a160168",
   "metadata": {},
   "outputs": [
    {
     "name": "stdout",
     "output_type": "stream",
     "text": [
      "Before Shape (480, 17)\n",
      "After Shape (427, 17)\n"
     ]
    },
    {
     "data": {
      "image/png": "[encoded data removed]",
      "text/plain": [
       "<Figure size 640x480 with 2 Axes>"
      ]
     },
     "metadata": {},
     "output_type": "display_data"
    }
   ],
   "source": [
    "#   2. Scan all numeric variables for outliers. If there are outliers, use any of the suitable techniques \n",
    "#      to deal with them.\n",
    "fig,axis = plt.subplots(1, 2)\n",
    "max_val = data2.VisITedResources.quantile(0.95)\n",
    "min_val = data2.VisITedResources.quantile(0.05)\n",
    "print(\"Before Shape\", data.shape)\n",
    "df = data2[(data2['VisITedResources'] > min_val) & (data2['VisITedResources'] < max_val)]\n",
    "print(\"After Shape\", df.shape)\n",
    "sns.boxplot(data2['VisITedResources'], orient='v', ax=axis[0])\n",
    "axis[0].title.set_text('Before')\n",
    "sns.boxplot(df['VisITedResources'], orient='v', ax=axis[1])\n",
    "axis[1].title.set_text('After')\n",
    "plt.show()"
   ]
  },
  {
   "cell_type": "code",
   "execution_count": 11,
   "id": "6556eee1",
   "metadata": {},
   "outputs": [],
   "source": [
    "#   3. Apply data transformations on at least one of the variables. The purpose of this \n",
    "#      transformation should be one of the following reasons: to change the scale for better \n",
    "#      understanding of the variable, to convert a non-linear relation into a linear one, or to decrease \n",
    "#      the skewness and convert the distribution into a normal distribution."
   ]
  },
  {
   "cell_type": "code",
   "execution_count": 12,
   "id": "e15c38ce",
   "metadata": {},
   "outputs": [
    {
     "name": "stdout",
     "output_type": "stream",
     "text": [
      "[[-1.15922617 -1.29844429 -1.42428794 -0.90164582]\n",
      " [-0.99010159 -1.16788899 -1.38643105 -0.71803137]\n",
      " [-1.32835075 -1.59219371 -1.50000172 -0.53441693]\n",
      " ...\n",
      " [ 0.19377045  0.59460753 -0.55357945 -0.57113982]\n",
      " [-0.65185244 -1.26580546 -0.97000525  0.45710106]\n",
      " [-0.48272786 -1.36372194 -0.62929323  0.6407155 ]]\n"
     ]
    }
   ],
   "source": [
    "scaler = StandardScaler()\n",
    "x = df[['raisedhands', 'VisITedResources', 'AnnouncementsView', 'Discussion']]\n",
    "scaledf = scaler.fit_transform(x)\n",
    "print(scaledf)"
   ]
  },
  {
   "cell_type": "code",
   "execution_count": 13,
   "id": "0d9aeea3",
   "metadata": {},
   "outputs": [
    {
     "data": {
      "image/png": "[encoded data removed]",
      "text/plain": [
       "<Figure size 640x480 with 1 Axes>"
      ]
     },
     "metadata": {},
     "output_type": "display_data"
    }
   ],
   "source": [
    "df.Discussion.hist()\n",
    "plt.show()"
   ]
  },
  {
   "cell_type": "code",
   "execution_count": 14,
   "id": "c1b84854",
   "metadata": {},
   "outputs": [],
   "source": [
    "import scipy.stats as stats"
   ]
  },
  {
   "cell_type": "code",
   "execution_count": 15,
   "id": "bcb5ee65",
   "metadata": {},
   "outputs": [
    {
     "data": {
      "image/png": "[encoded data removed]",
      "text/plain": [
       "<Figure size 640x480 with 1 Axes>"
      ]
     },
     "metadata": {},
     "output_type": "display_data"
    }
   ],
   "source": [
    "sns.distplot(df['Discussion'], bins = 40)\n",
    "plt.show()"
   ]
  },
  {
   "cell_type": "code",
   "execution_count": 16,
   "id": "d7f58503",
   "metadata": {},
   "outputs": [
    {
     "data": {
      "text/plain": [
       "0.33203952447202845"
      ]
     },
     "execution_count": 16,
     "metadata": {},
     "output_type": "execute_result"
    }
   ],
   "source": [
    "# Checking the skewness\n",
    "df['Discussion'].skew()"
   ]
  },
  {
   "cell_type": "code",
   "execution_count": 17,
   "id": "918486f1",
   "metadata": {},
   "outputs": [
    {
     "name": "stdout",
     "output_type": "stream",
     "text": [
      "-1.1910468123704019\n"
     ]
    }
   ],
   "source": [
    "# If you want to reduce skewness there are 4 methods, one of them is log\n",
    "log = np.log(df['Discussion'])\n",
    "print(log.skew())"
   ]
  },
  {
   "cell_type": "code",
   "execution_count": 18,
   "id": "2b49ec72",
   "metadata": {},
   "outputs": [
    {
     "data": {
      "text/plain": [
       "<Axes: xlabel='Discussion', ylabel='Density'>"
      ]
     },
     "execution_count": 18,
     "metadata": {},
     "output_type": "execute_result"
    },
    {
     "data": {
      "image/png": "[encoded data removed]",
      "text/plain": [
       "<Figure size 640x480 with 1 Axes>"
      ]
     },
     "metadata": {},
     "output_type": "display_data"
    }
   ],
   "source": [
    "sns.distplot(log, bins = 40)"
   ]
  }
 ],
 "metadata": {
  "kernelspec": {
   "display_name": "Python 3 (ipykernel)",
   "language": "python",
   "name": "python3"
  },
  "language_info": {
   "codemirror_mode": {
    "name": "ipython",
    "version": 3
   },
   "file_extension": ".py",
   "mimetype": "text/x-python",
   "name": "python",
   "nbconvert_exporter": "python",
   "pygments_lexer": "ipython3",
   "version": "3.11.5"
  }
 },
 "nbformat": 4,
 "nbformat_minor": 5
}
